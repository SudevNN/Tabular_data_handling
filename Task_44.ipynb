import pandas as pd
import random

lst = ['robot'] * 10
lst += ['human'] * 10
random.shuffle(lst)
data = pd.DataFrame({'whoAmI': lst})

# Создаем one-hot encoding вручную
one_hot = pd.DataFrame({'robot': [1 if x == 'robot' else 0 for x in data['whoAmI']],
                        'human': [1 if x == 'human' else 0 for x in data['whoAmI']]})

one_hot.head()